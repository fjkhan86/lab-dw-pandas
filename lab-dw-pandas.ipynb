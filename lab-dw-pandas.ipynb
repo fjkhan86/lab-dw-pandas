{
 "cells": [
  {
   "cell_type": "markdown",
   "id": "25d7736c-ba17-4aff-b6bb-66eba20fbf4e",
   "metadata": {},
   "source": [
    "# Lab | Pandas"
   ]
  },
  {
   "cell_type": "markdown",
   "id": "d1973e9e-8be6-4039-b70e-d73ee0d94c99",
   "metadata": {},
   "source": [
    "In this lab, we will be working with the customer data from an insurance company, which can be found in the CSV file located at the following link: https://raw.githubusercontent.com/data-bootcamp-v4/data/main/file1.csv\n",
    "\n",
    "The data includes information such as customer ID, state, gender, education, income, and other variables that can be used to perform various analyses.\n",
    "\n",
    "Throughout the lab, we will be using the pandas library in Python to manipulate and analyze the data. Pandas is a powerful library that provides various data manipulation and analysis tools, including the ability to load and manipulate data from a variety of sources, including CSV files."
   ]
  },
  {
   "cell_type": "markdown",
   "id": "8045146f-f4f7-44d9-8cd9-130d6400c73a",
   "metadata": {},
   "source": [
    "### Data Description\n",
    "\n",
    "- Customer - Customer ID\n",
    "\n",
    "- ST - State where customers live\n",
    "\n",
    "- Gender - Gender of the customer\n",
    "\n",
    "- Education - Background education of customers \n",
    "\n",
    "- Customer Lifetime Value - Customer lifetime value(CLV) is the total revenue the client will derive from their entire relationship with a customer. In other words, is the predicted or calculated value of a customer over their entire duration as a policyholder with the insurance company. It is an estimation of the net profit that the insurance company expects to generate from a customer throughout their relationship with the company. Customer Lifetime Value takes into account factors such as the duration of the customer's policy, premium payments, claim history, renewal likelihood, and potential additional services or products the customer may purchase. It helps insurers assess the long-term profitability and value associated with retaining a particular customer.\n",
    "\n",
    "- Income - Customers income\n",
    "\n",
    "- Monthly Premium Auto - Amount of money the customer pays on a monthly basis as a premium for their auto insurance coverage. It represents the recurring cost that the insured person must pay to maintain their insurance policy and receive coverage for potential damages, accidents, or other covered events related to their vehicle.\n",
    "\n",
    "- Number of Open Complaints - Number of complaints the customer opened\n",
    "\n",
    "- Policy Type - There are three type of policies in car insurance (Corporate Auto, Personal Auto, and Special Auto)\n",
    "\n",
    "- Vehicle Class - Type of vehicle classes that customers have Two-Door Car, Four-Door Car SUV, Luxury SUV, Sports Car, and Luxury Car\n",
    "\n",
    "- Total Claim Amount - the sum of all claims made by the customer. It represents the total monetary value of all approved claims for incidents such as accidents, theft, vandalism, or other covered events.\n"
   ]
  },
  {
   "cell_type": "markdown",
   "id": "3a72419b-20fc-4905-817a-8c83abc59de6",
   "metadata": {},
   "source": [
    "External Resources: https://towardsdatascience.com/filtering-data-frames-in-pandas-b570b1f834b9"
   ]
  },
  {
   "cell_type": "markdown",
   "id": "8f8ece17-e919-4e23-96c0-c7c59778436a",
   "metadata": {},
   "source": [
    "## Challenge 1: Understanding the data\n",
    "\n",
    "In this challenge, you will use pandas to explore a given dataset. Your task is to gain a deep understanding of the data by analyzing its characteristics, dimensions, and statistical properties."
   ]
  },
  {
   "cell_type": "markdown",
   "id": "91437bd5-59a6-49c0-8150-ef0e6e6eb253",
   "metadata": {},
   "source": [
    "- Identify the dimensions of the dataset by determining the number of rows and columns it contains.\n",
    "- Determine the data types of each column and evaluate whether they are appropriate for the nature of the variable. You should also provide suggestions for fixing any incorrect data types.\n",
    "- Identify the number of unique values for each column and determine which columns appear to be categorical. You should also describe the unique values of each categorical column and the range of values for numerical columns, and give your insights.\n",
    "- Compute summary statistics such as mean, median, mode, standard deviation, and quartiles to understand the central tendency and distribution of the data for numerical columns. You should also provide your conclusions based on these summary statistics.\n",
    "- Compute summary statistics for categorical columns and providing your conclusions based on these statistics."
   ]
  },
  {
   "cell_type": "code",
   "execution_count": 7,
   "id": "dd4e8cd8-a6f6-486c-a5c4-1745b0c035f4",
   "metadata": {},
   "outputs": [
    {
     "data": {
      "text/plain": [
       "(4008, 11)"
      ]
     },
     "execution_count": 7,
     "metadata": {},
     "output_type": "execute_result"
    }
   ],
   "source": [
    "# Identify the dimensions of the dataset by determining the number of rows and columns it contains.\n",
    "import pandas as pd\n",
    "\n",
    "url = \"https://raw.githubusercontent.com/data-bootcamp-v4/data/main/file1.csv\"\n",
    "\n",
    "df = pd.read_csv(url)\n",
    "df.shape"
   ]
  },
  {
   "cell_type": "code",
   "execution_count": 8,
   "id": "4a0213b3",
   "metadata": {},
   "outputs": [
    {
     "data": {
      "text/plain": [
       "Customer                      object\n",
       "ST                            object\n",
       "GENDER                        object\n",
       "Education                     object\n",
       "Customer Lifetime Value       object\n",
       "Income                       float64\n",
       "Monthly Premium Auto         float64\n",
       "Number of Open Complaints     object\n",
       "Policy Type                   object\n",
       "Vehicle Class                 object\n",
       "Total Claim Amount           float64\n",
       "dtype: object"
      ]
     },
     "execution_count": 8,
     "metadata": {},
     "output_type": "execute_result"
    }
   ],
   "source": [
    "#Determine the data types of each column\n",
    "df.dtypes"
   ]
  },
  {
   "cell_type": "code",
   "execution_count": 9,
   "id": "f1614539",
   "metadata": {},
   "outputs": [
    {
     "name": "stdout",
     "output_type": "stream",
     "text": [
      "['Personal Auto' 'Corporate Auto' 'Special Auto' nan]\n",
      "['Washington' 'Arizona' 'Nevada' 'California' 'Oregon' 'Cali' 'AZ' 'WA'\n",
      " nan]\n",
      "[nan 'F' 'M' 'Femal' 'Male' 'female']\n",
      "['Master' 'Bachelor' 'High School or Below' 'College' 'Bachelors' 'Doctor'\n",
      " nan]\n",
      "['1/0/00' '1/2/00' '1/1/00' '1/3/00' '1/5/00' '1/4/00' nan]\n",
      "['Personal Auto' 'Corporate Auto' 'Special Auto' nan]\n",
      "['Four-Door Car' 'Two-Door Car' 'SUV' 'Luxury SUV' 'Sports Car'\n",
      " 'Luxury Car' nan]\n"
     ]
    }
   ],
   "source": [
    "# Identify the number of unique values for each column and determine which columns appear to be categorical\n",
    "print(df[\"Policy Type\"].unique())\n",
    "print(df[\"ST\"].unique())\n",
    "print(df[\"GENDER\"].unique())\n",
    "print(df[\"Education\"].unique())\n",
    "print(df[\"Number of Open Complaints\"].unique())\n",
    "print(df[\"Policy Type\"].unique())\n",
    "print(df[\"Vehicle Class\"].unique())\n"
   ]
  },
  {
   "cell_type": "code",
   "execution_count": 10,
   "id": "f1dd3503",
   "metadata": {},
   "outputs": [
    {
     "name": "stdout",
     "output_type": "stream",
     "text": [
      "Numerical Summary Statistics:\n",
      "       Customer   ST  GENDER  Education  Customer Lifetime Value  \\\n",
      "count       0.0  0.0     0.0        0.0                      0.0   \n",
      "mean        NaN  NaN     NaN        NaN                      NaN   \n",
      "std         NaN  NaN     NaN        NaN                      NaN   \n",
      "min         NaN  NaN     NaN        NaN                      NaN   \n",
      "25%         NaN  NaN     NaN        NaN                      NaN   \n",
      "50%         NaN  NaN     NaN        NaN                      NaN   \n",
      "75%         NaN  NaN     NaN        NaN                      NaN   \n",
      "max         NaN  NaN     NaN        NaN                      NaN   \n",
      "\n",
      "             Income  Monthly Premium Auto  Number of Open Complaints  \\\n",
      "count   1071.000000           1071.000000                        0.0   \n",
      "mean   39295.701214            193.234360                        NaN   \n",
      "std    30469.427060           1601.190369                        NaN   \n",
      "min        0.000000             61.000000                        NaN   \n",
      "25%    14072.000000             68.000000                        NaN   \n",
      "50%    36234.000000             83.000000                        NaN   \n",
      "75%    64631.000000            109.500000                        NaN   \n",
      "max    99960.000000          35354.000000                        NaN   \n",
      "\n",
      "       Policy Type  Vehicle Class  Total Claim Amount  \n",
      "count          0.0            0.0         1071.000000  \n",
      "mean           NaN            NaN          404.986909  \n",
      "std            NaN            NaN          293.027260  \n",
      "min            NaN            NaN            0.382107  \n",
      "25%            NaN            NaN          202.157702  \n",
      "50%            NaN            NaN          354.729129  \n",
      "75%            NaN            NaN          532.800000  \n",
      "max            NaN            NaN         2893.239678  \n",
      "\n",
      "Additional Summary Statistics:\n",
      "                                   mean        median   mode       std_dev  \\\n",
      "Customer                            NaN           NaN    NaN           NaN   \n",
      "ST                                  NaN           NaN    NaN           NaN   \n",
      "GENDER                              NaN           NaN    NaN           NaN   \n",
      "Education                           NaN           NaN    NaN           NaN   \n",
      "Customer Lifetime Value             NaN           NaN    NaN           NaN   \n",
      "Income                     39295.701214  36234.000000    0.0  30469.427060   \n",
      "Monthly Premium Auto         193.234360     83.000000   65.0   1601.190369   \n",
      "Number of Open Complaints           NaN           NaN    NaN           NaN   \n",
      "Policy Type                         NaN           NaN    NaN           NaN   \n",
      "Vehicle Class                       NaN           NaN    NaN           NaN   \n",
      "Total Claim Amount           404.986909    354.729129  321.6    293.027260   \n",
      "\n",
      "                                     Q1            Q2       Q3  \n",
      "Customer                            NaN           NaN      NaN  \n",
      "ST                                  NaN           NaN      NaN  \n",
      "GENDER                              NaN           NaN      NaN  \n",
      "Education                           NaN           NaN      NaN  \n",
      "Customer Lifetime Value             NaN           NaN      NaN  \n",
      "Income                     14072.000000  36234.000000  64631.0  \n",
      "Monthly Premium Auto          68.000000     83.000000    109.5  \n",
      "Number of Open Complaints           NaN           NaN      NaN  \n",
      "Policy Type                         NaN           NaN      NaN  \n",
      "Vehicle Class                       NaN           NaN      NaN  \n",
      "Total Claim Amount           202.157702    354.729129    532.8  \n",
      "\n",
      "Categorical Columns:\n",
      "Index([], dtype='object')\n"
     ]
    }
   ],
   "source": [
    "import pandas as pd\n",
    "\n",
    "# Step 1: Identify numeric columns\n",
    "numeric_columns = df.select_dtypes(include=['number']).columns\n",
    "\n",
    "# Step 2: Convert potential numeric columns (non-numeric by default) to numeric\n",
    "for col in df.columns:\n",
    "    if col not in numeric_columns:\n",
    "        df[col] = pd.to_numeric(df[col], errors='coerce')\n",
    "\n",
    "# Re-identify numeric columns after conversion\n",
    "numeric_columns = df.select_dtypes(include=['number']).columns\n",
    "\n",
    "# Step 3: Compute summary statistics for numerical columns\n",
    "numerical_summary = df[numeric_columns].describe()\n",
    "\n",
    "# Compute additional statistics (Mode, Quartiles, Standard Deviation)\n",
    "mode_values = df[numeric_columns].mode().iloc[0]\n",
    "Q1 = df[numeric_columns].quantile(0.25)\n",
    "Q2 = df[numeric_columns].quantile(0.5)  # This is the same as the median\n",
    "Q3 = df[numeric_columns].quantile(0.75)\n",
    "std_dev = df[numeric_columns].std()\n",
    "\n",
    "# Compile all statistics into a summary DataFrame\n",
    "summary_statistics = pd.DataFrame({\n",
    "    'mean': df[numeric_columns].mean(),\n",
    "    'median': df[numeric_columns].median(),\n",
    "    'mode': mode_values,\n",
    "    'std_dev': std_dev,\n",
    "    'Q1': Q1,\n",
    "    'Q2': Q2,\n",
    "    'Q3': Q3\n",
    "})\n",
    "\n",
    "# Step 4: Identify categorical columns\n",
    "categorical_columns = df.select_dtypes(include=['object', 'category']).columns\n",
    "\n",
    "# Output the results\n",
    "print(\"Numerical Summary Statistics:\")\n",
    "print(numerical_summary)\n",
    "\n",
    "print(\"\\nAdditional Summary Statistics:\")\n",
    "print(summary_statistics)\n",
    "\n",
    "print(\"\\nCategorical Columns:\")\n",
    "print(categorical_columns)\n"
   ]
  },
  {
   "cell_type": "markdown",
   "id": "4a703890-63db-4944-b7ab-95a4f8185120",
   "metadata": {},
   "source": [
    "## Challenge 2: analyzing the data"
   ]
  },
  {
   "cell_type": "markdown",
   "id": "0776a403-c56a-452f-ac33-5fd4fdb06fc7",
   "metadata": {},
   "source": [
    "### Exercise 1"
   ]
  },
  {
   "cell_type": "markdown",
   "id": "eedbc484-da4d-4f9c-9343-e1d44311a87e",
   "metadata": {},
   "source": [
    "The marketing team wants to know the top 5 less common customer locations. Create a pandas Series object that contains the customer locations and their frequencies, and then retrieve the top 5 less common locations in ascending order."
   ]
  },
  {
   "cell_type": "code",
   "execution_count": 11,
   "id": "2dca5073-4520-4f42-9390-4b92733284ed",
   "metadata": {},
   "outputs": [
    {
     "name": "stdout",
     "output_type": "stream",
     "text": [
      "All values in 'ST' column:\n",
      "0       Washington\n",
      "1          Arizona\n",
      "2           Nevada\n",
      "3       California\n",
      "4       Washington\n",
      "           ...    \n",
      "4003           NaN\n",
      "4004           NaN\n",
      "4005           NaN\n",
      "4006           NaN\n",
      "4007           NaN\n",
      "Name: ST, Length: 4008, dtype: object\n",
      "5 least common customer locations with their frequencies:\n",
      "ST\n",
      "AZ             25\n",
      "WA             30\n",
      "Washington     81\n",
      "Nevada         98\n",
      "Cali          120\n",
      "Name: count, dtype: int64\n"
     ]
    }
   ],
   "source": [
    "import pandas as pd\n",
    "\n",
    "# Load the dataset from a URL\n",
    "url = \"https://raw.githubusercontent.com/data-bootcamp-v4/data/main/file1.csv\"\n",
    "customer_data_df = pd.read_csv(url)\n",
    "\n",
    "# Access all values in the 'State' column\n",
    "all_values = customer_data_df['ST']\n",
    "print(\"All values in 'ST' column:\")\n",
    "print(all_values)\n",
    "\n",
    "# Calculate the frequency of each customer location\n",
    "location_counts = customer_data_df[\"ST\"].value_counts()\n",
    "\n",
    "# Retrieve the 5 locations with the lowest frequency in ascending order\n",
    "least_common_locations = location_counts.nsmallest(5)\n",
    "\n",
    "print(\"5 least common customer locations with their frequencies:\")\n",
    "print(least_common_locations)\n"
   ]
  },
  {
   "cell_type": "markdown",
   "id": "0ce80f43-4afa-43c7-a78a-c917444da4e0",
   "metadata": {},
   "source": [
    "### Exercise 2\n",
    "\n",
    "The sales team wants to know the total number of policies sold for each type of policy. Create a pandas Series object that contains the policy types and their total number of policies sold, and then retrieve the policy type with the highest number of policies sold."
   ]
  },
  {
   "cell_type": "markdown",
   "id": "a9f13997-1555-4f98-aca6-970fda1d2c3f",
   "metadata": {},
   "source": [
    "*Hint:*\n",
    "- *Using value_counts() method simplifies this analysis.*\n",
    "- *Futhermore, there is a method that returns the index of the maximum value in a column or row.*\n"
   ]
  },
  {
   "cell_type": "code",
   "execution_count": 12,
   "id": "bcfad6c1-9af2-4b0b-9aa9-0dc5c17473c0",
   "metadata": {},
   "outputs": [
    {
     "name": "stdout",
     "output_type": "stream",
     "text": [
      "Index of maximum value: Personal Auto\n"
     ]
    }
   ],
   "source": [
    "customer_data_df = pd.read_csv(url)\n",
    "policy_type_counts = customer_data_df[\"Policy Type\"].value_counts()\n",
    "\n",
    "# Retrieve index of the maximum value\n",
    "max_index = policy_type_counts.idxmax()\n",
    "\n",
    "print(\"Index of maximum value:\", max_index)\n",
    "\n"
   ]
  },
  {
   "cell_type": "markdown",
   "id": "0b863fd3-bf91-4d5d-86eb-be29ed9f5b70",
   "metadata": {},
   "source": [
    "### Exercise 3\n",
    "\n",
    "The sales team wants to know if customers with Personal Auto have a lower income than those with Corporate Auto. How does the average income compare between the two policy types?"
   ]
  },
  {
   "cell_type": "markdown",
   "id": "b1386d75-2810-4aa1-93e0-9485aa12d552",
   "metadata": {},
   "source": [
    "- Use *loc* to create two dataframes: one containing only Personal Auto policies and one containing only Corporate Auto policies.\n",
    "- Calculate the average income for each policy.\n",
    "- Print the results."
   ]
  },
  {
   "cell_type": "code",
   "execution_count": 13,
   "id": "0c0563cf-6f8b-463d-a321-651a972f82e5",
   "metadata": {},
   "outputs": [
    {
     "name": "stdout",
     "output_type": "stream",
     "text": [
      "Average Income for Personal Auto policies: 38180.69871794872\n",
      "Average Income for Corporate Auto policies: 41390.31196581197\n"
     ]
    }
   ],
   "source": [
    "# Create DataFrame for Personal Auto policies\n",
    "personal_auto_df = customer_data_df.loc[customer_data_df['Policy Type'] == 'Personal Auto']\n",
    "\n",
    "# Create DataFrame for Corporate Auto policies\n",
    "corporate_auto_df = customer_data_df.loc[customer_data_df['Policy Type'] == 'Corporate Auto']\n",
    "\n",
    "# Calculate average income for each policy type\n",
    "avg_income_personal_auto = personal_auto_df['Income'].mean()\n",
    "avg_income_corporate_auto = corporate_auto_df['Income'].mean()\n",
    "\n",
    "# Print the results\n",
    "print(\"Average Income for Personal Auto policies:\", avg_income_personal_auto)\n",
    "print(\"Average Income for Corporate Auto policies:\", avg_income_corporate_auto)"
   ]
  },
  {
   "cell_type": "markdown",
   "id": "80b16c27-f4a5-4727-a229-1f88671cf4e2",
   "metadata": {},
   "source": [
    "### Bonus: Exercise 4\n"
   ]
  },
  {
   "cell_type": "markdown",
   "id": "ac584986-299b-475f-ac2e-928c16c3f512",
   "metadata": {},
   "source": [
    "Your goal is to identify customers with a high policy claim amount.\n",
    "\n",
    "Instructions:\n",
    "\n",
    "- Review again the statistics for total claim amount to gain an understanding of the data.\n",
    "- To identify potential areas for improving customer retention and profitability, we want to focus on customers with a high policy claim amount. Consider customers with a high policy claim amount to be those in the top 25% of the total claim amount. Create a pandas DataFrame object that contains information about customers with a policy claim amount greater than the 75th percentile.\n",
    "- Use DataFrame methods to calculate summary statistics about the high policy claim amount data. "
   ]
  },
  {
   "cell_type": "markdown",
   "id": "4e3af5f1-6023-4b05-9c01-d05392daa650",
   "metadata": {},
   "source": [
    "*Note: When analyzing data, we often want to focus on certain groups of values to gain insights. Percentiles are a useful tool to help us define these groups. A percentile is a measure that tells us what percentage of values in a dataset are below a certain value. For example, the 75th percentile represents the value below which 75% of the data falls. Similarly, the 25th percentile represents the value below which 25% of the data falls. When we talk about the top 25%, we are referring to the values that fall above the 75th percentile, which represent the top quarter of the data. On the other hand, when we talk about the bottom 25%, we are referring to the values that fall below the 25th percentile, which represent the bottom quarter of the data. By focusing on these groups, we can identify patterns and trends that may be useful for making decisions and taking action.*\n",
    "\n",
    "*Hint: look for a method that gives you the percentile or quantile 0.75 and 0.25 for a Pandas Series.*"
   ]
  },
  {
   "cell_type": "markdown",
   "id": "2d234634-50bd-41e0-88f7-d5ba684455d1",
   "metadata": {},
   "source": [
    "*Hint 2: check `Boolean selection according to the values of a single column` in https://towardsdatascience.com/filtering-data-frames-in-pandas-b570b1f834b9*"
   ]
  },
  {
   "cell_type": "code",
   "execution_count": null,
   "id": "b731bca6-a760-4860-a27b-a33efa712ce0",
   "metadata": {},
   "outputs": [],
   "source": [
    "# Your code here"
   ]
  }
 ],
 "metadata": {
  "kernelspec": {
   "display_name": "Python 3 (ipykernel)",
   "language": "python",
   "name": "python3"
  },
  "language_info": {
   "codemirror_mode": {
    "name": "ipython",
    "version": 3
   },
   "file_extension": ".py",
   "mimetype": "text/x-python",
   "name": "python",
   "nbconvert_exporter": "python",
   "pygments_lexer": "ipython3",
   "version": "3.11.7"
  }
 },
 "nbformat": 4,
 "nbformat_minor": 5
}
